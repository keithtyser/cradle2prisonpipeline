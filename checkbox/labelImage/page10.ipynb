{
 "cells": [
  {
   "cell_type": "markdown",
   "metadata": {},
   "source": [
    "## Class to process page 10 of the survey"
   ]
  },
  {
   "cell_type": "code",
   "execution_count": 1,
   "metadata": {},
   "outputs": [],
   "source": [
    "import numpy as np\n",
    "import cv2\n",
    "import matplotlib.pyplot as plt\n",
    "import os\n",
    "import glob\n",
    "import xml.etree.ElementTree as ET\n",
    "import pandas as pd\n",
    "plt.rcParams['figure.figsize'] = (10, 10)\n",
    "from utils import *\n",
    "from define import *\n",
    "# import define"
   ]
  },
  {
   "cell_type": "code",
   "execution_count": 2,
   "metadata": {},
   "outputs": [],
   "source": [
    "class Page11Processor:\n",
    "    def __init__(self, xml_path):\n",
    "        df = xml2csv(xml_path)\n",
    "\n",
    "        self.all_columns = df.iloc[[7,8,9]]\n",
    "        self.all_columns_np = np.array(self.all_columns[['xmin', 'ymin', 'xmax', 'ymax']])\n",
    "\n",
    "        self.all_rows = df.iloc[range(10, 33)]\n",
    "        self.question_of_rows = [row.split('_')[0] for row in self.all_rows['class']]\n",
    "        self.all_rows_np = np.array(self.all_rows[['xmin', 'ymin', 'xmax', 'ymax']])\n",
    "        \n",
    "    def process(self, img):\n",
    "        gray = cv2.cvtColor(img, cv2.COLOR_BGR2GRAY)\n",
    "\n",
    "        extractor = CheckboxExtractor()\n",
    "        checkboxes = extractor.detect_checkbox(gray)    \n",
    "        tick_list = list(map(lambda x: extractor.is_ticked(gray[x[1]:x[3], x[0]:x[2]]), checkboxes))\n",
    "        checkboxes = np.hstack([checkboxes, np.array(tick_list).reshape(-1,1)]) # [x1,y1,x2,y2,is_ticked]\n",
    "\n",
    "        column_ids  = []\n",
    "        row_ids = []\n",
    "        for i in range(len(checkboxes)):\n",
    "            x1,y1,x2,y2,_is_tick = checkboxes[i]\n",
    "            _column_id = np.where((self.all_columns_np[:,0] < x1) & (self.all_columns_np[:,2] > x2))[0][0]\n",
    "            column_ids += [_column_id]\n",
    "\n",
    "            checkbox_coor = checkboxes[i:i+1, :]\n",
    "            _iou = np_vec_no_jit_iou(checkbox_coor[:,:4], self.all_rows_np)\n",
    "            row_ids += [np.argmax(_iou)]\n",
    "\n",
    "        _id_offset = 0\n",
    "        result_df = pd.DataFrame()\n",
    "        for _question_id in range(57, 64):\n",
    "            for _column_id in range(3):\n",
    "                question_name = f'{_question_id}.{_column_id+1}'\n",
    "\n",
    "                _checkbox_ids = list(filter(lambda x: ( int(self.question_of_rows[row_ids[x]]) == _question_id ) and (column_ids[x] == _column_id) and (checkboxes[x][4] == 1), range(len(checkboxes)) ))\n",
    "                answers = []\n",
    "                if len(_checkbox_ids) > 0:\n",
    "                    for _checkbox_id in _checkbox_ids:\n",
    "                        answers += [ANSWER_TEXT_11[_question_id][row_ids[_checkbox_id] - _id_offset]]\n",
    "                result_df[question_name] = [', '.join(answers)]\n",
    "\n",
    "            _id_offset += len(ANSWER_TEXT_11[_question_id])\n",
    "\n",
    "        return result_df\n",
    "\n",
    "    \n"
   ]
  },
  {
   "cell_type": "code",
   "execution_count": 3,
   "metadata": {},
   "outputs": [
    {
     "name": "stdout",
     "output_type": "stream",
     "text": [
      "xml to csv page10.xml\n"
     ]
    }
   ],
   "source": [
    "processor = Page11Processor('page10.xml')"
   ]
  },
  {
   "cell_type": "code",
   "execution_count": 4,
   "metadata": {},
   "outputs": [],
   "source": [
    "img = cv2.imread('page10.jpg')\n",
    "ret = processor.process(img)"
   ]
  },
  {
   "cell_type": "code",
   "execution_count": 5,
   "metadata": {},
   "outputs": [
    {
     "data": {
      "text/html": [
       "<div>\n",
       "<style scoped>\n",
       "    .dataframe tbody tr th:only-of-type {\n",
       "        vertical-align: middle;\n",
       "    }\n",
       "\n",
       "    .dataframe tbody tr th {\n",
       "        vertical-align: top;\n",
       "    }\n",
       "\n",
       "    .dataframe thead th {\n",
       "        text-align: right;\n",
       "    }\n",
       "</style>\n",
       "<table border=\"1\" class=\"dataframe\">\n",
       "  <thead>\n",
       "    <tr style=\"text-align: right;\">\n",
       "      <th></th>\n",
       "      <th>57.1</th>\n",
       "      <th>57.2</th>\n",
       "      <th>57.3</th>\n",
       "      <th>58.1</th>\n",
       "      <th>58.2</th>\n",
       "      <th>58.3</th>\n",
       "      <th>59.1</th>\n",
       "      <th>59.2</th>\n",
       "      <th>59.3</th>\n",
       "      <th>60.1</th>\n",
       "      <th>...</th>\n",
       "      <th>60.3</th>\n",
       "      <th>61.1</th>\n",
       "      <th>61.2</th>\n",
       "      <th>61.3</th>\n",
       "      <th>62.1</th>\n",
       "      <th>62.2</th>\n",
       "      <th>62.3</th>\n",
       "      <th>63.1</th>\n",
       "      <th>63.2</th>\n",
       "      <th>63.3</th>\n",
       "    </tr>\n",
       "  </thead>\n",
       "  <tbody>\n",
       "    <tr>\n",
       "      <th>0</th>\n",
       "      <td>One</td>\n",
       "      <td>Two, More than two</td>\n",
       "      <td></td>\n",
       "      <td>Never</td>\n",
       "      <td>A few times</td>\n",
       "      <td>A few times</td>\n",
       "      <td>Never</td>\n",
       "      <td>Once</td>\n",
       "      <td>Never</td>\n",
       "      <td>Never</td>\n",
       "      <td>...</td>\n",
       "      <td>Never</td>\n",
       "      <td>Never</td>\n",
       "      <td>Never</td>\n",
       "      <td>Never</td>\n",
       "      <td>No</td>\n",
       "      <td>No</td>\n",
       "      <td>No</td>\n",
       "      <td>Out-of-school</td>\n",
       "      <td>Out-of-school</td>\n",
       "      <td></td>\n",
       "    </tr>\n",
       "  </tbody>\n",
       "</table>\n",
       "<p>1 rows × 21 columns</p>\n",
       "</div>"
      ],
      "text/plain": [
       "  57.1                57.2 57.3   58.1         58.2         58.3   59.1  59.2  \\\n",
       "0  One  Two, More than two       Never  A few times  A few times  Never  Once   \n",
       "\n",
       "    59.3   60.1  ...   60.3   61.1   61.2   61.3 62.1 62.2 62.3  \\\n",
       "0  Never  Never  ...  Never  Never  Never  Never   No   No   No   \n",
       "\n",
       "            63.1           63.2 63.3  \n",
       "0  Out-of-school  Out-of-school       \n",
       "\n",
       "[1 rows x 21 columns]"
      ]
     },
     "execution_count": 5,
     "metadata": {},
     "output_type": "execute_result"
    }
   ],
   "source": [
    "ret"
   ]
  },
  {
   "cell_type": "code",
   "execution_count": 6,
   "metadata": {},
   "outputs": [],
   "source": [
    "ret.to_csv('./result11.csv')"
   ]
  },
  {
   "cell_type": "code",
   "execution_count": null,
   "metadata": {},
   "outputs": [],
   "source": []
  }
 ],
 "metadata": {
  "interpreter": {
   "hash": "5ef2b81b22d410f0bf01a95939cc2ab70e2b085a764e651dd63e645269e6a574"
  },
  "kernelspec": {
   "display_name": "Python 3 (ipykernel)",
   "language": "python",
   "name": "python3"
  },
  "language_info": {
   "codemirror_mode": {
    "name": "ipython",
    "version": 3
   },
   "file_extension": ".py",
   "mimetype": "text/x-python",
   "name": "python",
   "nbconvert_exporter": "python",
   "pygments_lexer": "ipython3",
   "version": "3.8.8"
  }
 },
 "nbformat": 4,
 "nbformat_minor": 2
}
