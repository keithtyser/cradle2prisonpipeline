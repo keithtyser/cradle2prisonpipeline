{
 "cells": [
  {
   "cell_type": "markdown",
   "id": "67150380",
   "metadata": {},
   "source": [
    "## Combining Framingham with Norfolk"
   ]
  },
  {
   "cell_type": "code",
   "execution_count": 4,
   "id": "7cdbf816",
   "metadata": {},
   "outputs": [],
   "source": [
    "import pandas as pd\n",
    "  \n",
    "# merging two csv files\n",
    "\n",
    "df = pd.concat(\n",
    "    map(pd.read_csv, ['Framingham.csv', 'Norfolk.csv']), ignore_index=True)\n",
    "df.to_csv('combine.csv')"
   ]
  },
  {
   "cell_type": "code",
   "execution_count": 3,
   "id": "4cd1ec69",
   "metadata": {},
   "outputs": [],
   "source": [
    "# Combine with checkbox\n",
    "\n",
    "Final = pd.concat(\n",
    "    map(pd.read_csv, ['combine.csv', 'result.csv']), axis = 1, ignore_index=True)\n",
    "Final.to_csv('Final.csv')"
   ]
  },
  {
   "cell_type": "code",
   "execution_count": null,
   "id": "5e229c51",
   "metadata": {},
   "outputs": [],
   "source": []
  }
 ],
 "metadata": {
  "kernelspec": {
   "display_name": "Python 3",
   "language": "python",
   "name": "python3"
  },
  "language_info": {
   "codemirror_mode": {
    "name": "ipython",
    "version": 3
   },
   "file_extension": ".py",
   "mimetype": "text/x-python",
   "name": "python",
   "nbconvert_exporter": "python",
   "pygments_lexer": "ipython3",
   "version": "3.8.8"
  }
 },
 "nbformat": 4,
 "nbformat_minor": 5
}
