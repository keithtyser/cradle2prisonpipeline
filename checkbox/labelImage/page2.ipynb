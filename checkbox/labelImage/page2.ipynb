{
 "cells": [
  {
   "cell_type": "markdown",
   "metadata": {},
   "source": [
    "## Class to process page 2 of the survey"
   ]
  },
  {
   "cell_type": "code",
   "execution_count": 36,
   "metadata": {},
   "outputs": [],
   "source": [
    "import numpy as np\n",
    "import cv2\n",
    "import matplotlib.pyplot as plt\n",
    "import os\n",
    "import glob\n",
    "import xml.etree.ElementTree as ET\n",
    "import pandas as pd\n",
    "plt.rcParams['figure.figsize'] = (10, 10)\n",
    "from utils import *\n",
    "from define import *\n",
    "# import define"
   ]
  },
  {
   "cell_type": "code",
   "execution_count": 37,
   "metadata": {},
   "outputs": [],
   "source": [
    "class Page2Processor:\n",
    "    def __init__(self, xml_path):\n",
    "        df = xml2csv(xml_path)\n",
    "\n",
    "        self.all_checkbox = df.copy()\n",
    "\n",
    "        self.all_checkbox_numpy =np.array(self.all_checkbox[['xmin', 'ymin', 'xmax', 'ymax']])\n",
    "        question_of_row = [row.split('_') for row in self.all_checkbox['class']]\n",
    "        self.question_of_row = [row[0] if len(row) == 2 else '_'.join(row[:3]) if len(row) == 4 else '_'.join(row[:2]) for row in question_of_row]\n",
    "\n",
    "        \n",
    "    def process(self, img):\n",
    "        gray = cv2.cvtColor(img, cv2.COLOR_BGR2GRAY)\n",
    "\n",
    "        extractor = CheckboxExtractor()\n",
    "        checkboxes = extractor.detect_checkbox(gray)    \n",
    "        tick_list = list(map(lambda x: extractor.is_ticked(gray[x[1]:x[3], x[0]:x[2]]), checkboxes))\n",
    "        checkboxes = np.hstack([checkboxes, np.array(tick_list).reshape(-1,1)]) # [x1,y1,x2,y2,is_ticked]\n",
    "\n",
    "        row_ids = []\n",
    "        for i in range(len(checkboxes)):\n",
    "            x1,y1,x2,y2,_is_tick = checkboxes[i]\n",
    "            checkbox_coor = checkboxes[i:i+1, :]\n",
    "            _iou = np_vec_no_jit_iou(checkbox_coor[:,:4], self.all_checkbox_numpy)\n",
    "            row_ids += [np.argmax(_iou)]\n",
    "        \n",
    "        result_df = pd.DataFrame()\n",
    "\n",
    "        _id_offset = 0\n",
    "\n",
    "        for _question_id in [18,19,20]:\n",
    "            question_name = f'{_question_id}'\n",
    "\n",
    "            _checkbox_ids = list(filter(lambda x: ( str(_question_id) == self.question_of_row[row_ids[x]] ) and (checkboxes[x][4] == 1), range(len(checkboxes))))\n",
    "\n",
    "            answers = []\n",
    "            if len(_checkbox_ids) > 0:\n",
    "                for _checkbox_id in _checkbox_ids:\n",
    "                    answers += [ANSWER_TEXT_2[str(_question_id)][row_ids[_checkbox_id] - _id_offset]]\n",
    "            result_df[question_name] = [', '.join(answers)]\n",
    "            _id_offset += len(ANSWER_TEXT_2[str(_question_id)])\n",
    "            # if _question_id in [31, 33]:\n",
    "            #     answers = []\n",
    "            #     question_name = f'{_question_id}_1'\n",
    "            #     _checkbox_ids = list(filter(lambda x: ( self.question_of_row[row_ids[x]] == question_name ) and (checkboxes[x][4] == 1), range(len(checkboxes))))\n",
    "            #     for _checkbox_id in _checkbox_ids:\n",
    "            #         answers += [ANSWER_TEXT_5[question_name][row_ids[_checkbox_id] - _id_offset]]\n",
    "            #     result_df[question_name.replace('_', '.')] = [', '.join(answers)]\n",
    "            #     _id_offset += len(ANSWER_TEXT_5[question_name])\n",
    "\n",
    "\n",
    "\n",
    "\n",
    "        return result_df\n",
    "\n",
    "    \n"
   ]
  },
  {
   "cell_type": "code",
   "execution_count": 38,
   "metadata": {},
   "outputs": [
    {
     "name": "stdout",
     "output_type": "stream",
     "text": [
      "xml to csv page2.xml\n"
     ]
    },
    {
     "data": {
      "text/html": [
       "<div>\n",
       "<style scoped>\n",
       "    .dataframe tbody tr th:only-of-type {\n",
       "        vertical-align: middle;\n",
       "    }\n",
       "\n",
       "    .dataframe tbody tr th {\n",
       "        vertical-align: top;\n",
       "    }\n",
       "\n",
       "    .dataframe thead th {\n",
       "        text-align: right;\n",
       "    }\n",
       "</style>\n",
       "<table border=\"1\" class=\"dataframe\">\n",
       "  <thead>\n",
       "    <tr style=\"text-align: right;\">\n",
       "      <th></th>\n",
       "      <th>18</th>\n",
       "      <th>19</th>\n",
       "      <th>20</th>\n",
       "    </tr>\n",
       "  </thead>\n",
       "  <tbody>\n",
       "    <tr>\n",
       "      <th>0</th>\n",
       "      <td>No</td>\n",
       "      <td>No</td>\n",
       "      <td>Teacher/coach, Other</td>\n",
       "    </tr>\n",
       "  </tbody>\n",
       "</table>\n",
       "</div>"
      ],
      "text/plain": [
       "   18  19                    20\n",
       "0  No  No  Teacher/coach, Other"
      ]
     },
     "execution_count": 38,
     "metadata": {},
     "output_type": "execute_result"
    }
   ],
   "source": [
    "processor = Page2Processor('page2.xml')\n",
    "\n",
    "img = cv2.imread('page2.jpg')\n",
    "ret = processor.process(img)\n",
    "\n",
    "ret"
   ]
  },
  {
   "cell_type": "code",
   "execution_count": null,
   "metadata": {},
   "outputs": [],
   "source": []
  }
 ],
 "metadata": {
  "interpreter": {
   "hash": "5ef2b81b22d410f0bf01a95939cc2ab70e2b085a764e651dd63e645269e6a574"
  },
  "kernelspec": {
   "display_name": "Python 3 (ipykernel)",
   "language": "python",
   "name": "python3"
  },
  "language_info": {
   "codemirror_mode": {
    "name": "ipython",
    "version": 3
   },
   "file_extension": ".py",
   "mimetype": "text/x-python",
   "name": "python",
   "nbconvert_exporter": "python",
   "pygments_lexer": "ipython3",
   "version": "3.8.8"
  }
 },
 "nbformat": 4,
 "nbformat_minor": 2
}
